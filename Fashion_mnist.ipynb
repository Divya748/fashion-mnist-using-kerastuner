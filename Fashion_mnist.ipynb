{
  "nbformat": 4,
  "nbformat_minor": 0,
  "metadata": {
    "colab": {
      "name": "Fashion-mnist.ipynb",
      "provenance": []
    },
    "kernelspec": {
      "name": "python3",
      "display_name": "Python 3"
    },
    "language_info": {
      "name": "python"
    },
    "accelerator": "GPU"
  },
  "cells": [
    {
      "cell_type": "code",
      "metadata": {
        "id": "6bE0pVYTVmkn"
      },
      "source": [
        "import tensorflow as tf\n",
        "from tensorflow import keras\n",
        "import numpy as np"
      ],
      "execution_count": 1,
      "outputs": []
    },
    {
      "cell_type": "code",
      "metadata": {
        "colab": {
          "base_uri": "https://localhost:8080/"
        },
        "id": "1NtXz8VaWMDx",
        "outputId": "60698e4c-ebf0-4c96-d256-7a24aab261f3"
      },
      "source": [
        "(x_train,y_train),(x_test,y_test)=keras.datasets.fashion_mnist.load_data()"
      ],
      "execution_count": 2,
      "outputs": [
        {
          "output_type": "stream",
          "text": [
            "Downloading data from https://storage.googleapis.com/tensorflow/tf-keras-datasets/train-labels-idx1-ubyte.gz\n",
            "32768/29515 [=================================] - 0s 0us/step\n",
            "40960/29515 [=========================================] - 0s 0us/step\n",
            "Downloading data from https://storage.googleapis.com/tensorflow/tf-keras-datasets/train-images-idx3-ubyte.gz\n",
            "26427392/26421880 [==============================] - 1s 0us/step\n",
            "26435584/26421880 [==============================] - 1s 0us/step\n",
            "Downloading data from https://storage.googleapis.com/tensorflow/tf-keras-datasets/t10k-labels-idx1-ubyte.gz\n",
            "16384/5148 [===============================================================================================] - 0s 0us/step\n",
            "Downloading data from https://storage.googleapis.com/tensorflow/tf-keras-datasets/t10k-images-idx3-ubyte.gz\n",
            "4423680/4422102 [==============================] - 0s 0us/step\n",
            "4431872/4422102 [==============================] - 0s 0us/step\n"
          ],
          "name": "stdout"
        }
      ]
    },
    {
      "cell_type": "code",
      "metadata": {
        "colab": {
          "base_uri": "https://localhost:8080/"
        },
        "id": "qZnFoIFWWj-d",
        "outputId": "f2cfe067-8cba-4e15-ecee-ed18c1cebe06"
      },
      "source": [
        "x_train.shape"
      ],
      "execution_count": 3,
      "outputs": [
        {
          "output_type": "execute_result",
          "data": {
            "text/plain": [
              "(60000, 28, 28)"
            ]
          },
          "metadata": {},
          "execution_count": 3
        }
      ]
    },
    {
      "cell_type": "code",
      "metadata": {
        "colab": {
          "base_uri": "https://localhost:8080/",
          "height": 282
        },
        "id": "6vnG7eyCWnBe",
        "outputId": "988d52d9-b985-448b-befa-dc447c479292"
      },
      "source": [
        "import matplotlib.pyplot as plt\n",
        "plt.imshow(x_train[7])"
      ],
      "execution_count": 4,
      "outputs": [
        {
          "output_type": "execute_result",
          "data": {
            "text/plain": [
              "<matplotlib.image.AxesImage at 0x7f6bb7734b90>"
            ]
          },
          "metadata": {},
          "execution_count": 4
        },
        {
          "output_type": "display_data",
          "data": {
            "image/png": "[encoded data removed]",
            "text/plain": [
              "<Figure size 432x288 with 1 Axes>"
            ]
          },
          "metadata": {
            "needs_background": "light"
          }
        }
      ]
    },
    {
      "cell_type": "markdown",
      "metadata": {
        "id": "GfCv5ejNW50c"
      },
      "source": [
        "**Normalize the data**"
      ]
    },
    {
      "cell_type": "code",
      "metadata": {
        "id": "3hlBdg8LWuZ4"
      },
      "source": [
        "x_train=x_train/255.0\n",
        "x_test=x_test/255.0"
      ],
      "execution_count": 5,
      "outputs": []
    },
    {
      "cell_type": "code",
      "metadata": {
        "colab": {
          "base_uri": "https://localhost:8080/"
        },
        "id": "cROCeC0AXFMz",
        "outputId": "1be2867d-1f34-48f5-884c-6963cac72ac8"
      },
      "source": [
        "x_train[0].shape"
      ],
      "execution_count": 6,
      "outputs": [
        {
          "output_type": "execute_result",
          "data": {
            "text/plain": [
              "(28, 28)"
            ]
          },
          "metadata": {},
          "execution_count": 6
        }
      ]
    },
    {
      "cell_type": "code",
      "metadata": {
        "id": "0ymYRnVSXcuM"
      },
      "source": [
        "x_train=x_train.reshape(len(x_train),28,28,1)\n",
        "x_test=x_test.reshape(len(x_test),28,28,1)"
      ],
      "execution_count": 7,
      "outputs": []
    },
    {
      "cell_type": "code",
      "metadata": {
        "colab": {
          "base_uri": "https://localhost:8080/"
        },
        "id": "_UCioKDNXxrT",
        "outputId": "a6c76d37-4674-4075-d641-5f338cbca701"
      },
      "source": [
        "x_train.shape"
      ],
      "execution_count": 8,
      "outputs": [
        {
          "output_type": "execute_result",
          "data": {
            "text/plain": [
              "(60000, 28, 28, 1)"
            ]
          },
          "metadata": {},
          "execution_count": 8
        }
      ]
    },
    {
      "cell_type": "code",
      "metadata": {
        "id": "lXfgCegMYGo4"
      },
      "source": [
        "def build_model(hp):\n",
        "  model=keras.Sequential([\n",
        "                          # adding first convolutional layer\n",
        "                          keras.layers.Conv2D(\n",
        "                              filters=hp.Int('con1_filter',min_value=65,max_value=130,step=15),\n",
        "                              kernel_size=hp.Choice('conv_1_kernel', values = [3,5]),\n",
        "                              activation='relu',\n",
        "                              input_shape=(28,28,1),\n",
        "                              kernel_initializer=\"he_uniform\"),\n",
        "                          # adding second convolutional layer \n",
        "                          keras.layers.Conv2D(\n",
        "                              filters=hp.Int('conv_2_filter', min_value=32, max_value=64, step=15),\n",
        "                              kernel_size=hp.Choice('conv_2_kernel', values = [3,5]),\n",
        "                              #activation function\n",
        "                              activation='relu',\n",
        "                              kernel_initializer=\"he_uniform\"),\n",
        "                          #flatten layer\n",
        "                          keras.layers.Flatten(),\n",
        "                          #fully connected dense layer\n",
        "                          keras.layers.Dense(\n",
        "                            units=hp.Int('dense1_units', min_value=32, max_value=128, step=15),\n",
        "                            activation='relu'),\n",
        "                          #output layer\n",
        "                          keras.layers.Dense(10,activation=\"softmax\")])\n",
        "  model.compile(optimizer=keras.optimizers.Adam(hp.Choice('learning_rate',values=[1e-2,1e-3,1e-4])),\n",
        "                                               loss=\"sparse_categorical_crossentropy\",\n",
        "                                               metrics=[\"accuracy\"])\n",
        "  return model"
      ],
      "execution_count": 9,
      "outputs": []
    },
    {
      "cell_type": "code",
      "metadata": {
        "colab": {
          "base_uri": "https://localhost:8080/"
        },
        "id": "RREuFOjdbaJh",
        "outputId": "0e3df966-5597-4e59-a2dd-25231cf14d9e"
      },
      "source": [
        "#importing random search\n",
        "from keras_tuner import RandomSearch\n",
        "from keras_tuner.engine.hyperparameters import HyperParameters\n",
        "#creating randomsearch object\n",
        "\n",
        "tuner = RandomSearch(build_model,\n",
        "                    objective='val_accuracy',\n",
        "                    max_trials = 5,directory='output',project_name=\"fashion mnist\")\n",
        "# search best parameter\n",
        "tuner.search(x_train,y_train,epochs=3,validation_split=0.1)"
      ],
      "execution_count": 14,
      "outputs": [
        {
          "output_type": "stream",
          "text": [
            "Trial 5 Complete [00h 00m 50s]\n",
            "val_accuracy: 0.8410000205039978\n",
            "\n",
            "Best val_accuracy So Far: 0.9045000076293945\n",
            "Total elapsed time: 00h 05m 47s\n",
            "INFO:tensorflow:Oracle triggered exit\n"
          ],
          "name": "stdout"
        }
      ]
    },
    {
      "cell_type": "code",
      "metadata": {
        "id": "Xgwhjgg_yKsi"
      },
      "source": [
        "model=tuner.get_best_models(num_models=1)[0]"
      ],
      "execution_count": 17,
      "outputs": []
    },
    {
      "cell_type": "code",
      "metadata": {
        "colab": {
          "base_uri": "https://localhost:8080/"
        },
        "id": "OKo4yl04yd-a",
        "outputId": "3304a153-5156-409c-ddc8-7cf80b2ba2e7"
      },
      "source": [
        "model.summary()"
      ],
      "execution_count": 18,
      "outputs": [
        {
          "output_type": "stream",
          "text": [
            "Model: \"sequential\"\n",
            "_________________________________________________________________\n",
            "Layer (type)                 Output Shape              Param #   \n",
            "=================================================================\n",
            "conv2d (Conv2D)              (None, 26, 26, 95)        950       \n",
            "_________________________________________________________________\n",
            "conv2d_1 (Conv2D)            (None, 22, 22, 62)        147312    \n",
            "_________________________________________________________________\n",
            "flatten (Flatten)            (None, 30008)             0         \n",
            "_________________________________________________________________\n",
            "dense (Dense)                (None, 47)                1410423   \n",
            "_________________________________________________________________\n",
            "dense_1 (Dense)              (None, 10)                480       \n",
            "=================================================================\n",
            "Total params: 1,559,165\n",
            "Trainable params: 1,559,165\n",
            "Non-trainable params: 0\n",
            "_________________________________________________________________\n"
          ],
          "name": "stdout"
        }
      ]
    },
    {
      "cell_type": "code",
      "metadata": {
        "colab": {
          "base_uri": "https://localhost:8080/"
        },
        "id": "o0uBxeW-ytZF",
        "outputId": "efa3079f-83ac-4f39-899f-41161af26c76"
      },
      "source": [
        "model.fit(x_train,y_train,epochs=10,validation_split=0.1,initial_epoch=3)"
      ],
      "execution_count": 19,
      "outputs": [
        {
          "output_type": "stream",
          "text": [
            "Epoch 4/10\n",
            "1688/1688 [==============================] - 18s 11ms/step - loss: 0.2092 - accuracy: 0.9235 - val_loss: 0.2767 - val_accuracy: 0.9007\n",
            "Epoch 5/10\n",
            "1688/1688 [==============================] - 18s 10ms/step - loss: 0.1770 - accuracy: 0.9355 - val_loss: 0.2876 - val_accuracy: 0.8997\n",
            "Epoch 6/10\n",
            "1688/1688 [==============================] - 18s 10ms/step - loss: 0.1496 - accuracy: 0.9459 - val_loss: 0.2573 - val_accuracy: 0.9125\n",
            "Epoch 7/10\n",
            "1688/1688 [==============================] - 17s 10ms/step - loss: 0.1260 - accuracy: 0.9545 - val_loss: 0.2741 - val_accuracy: 0.9083\n",
            "Epoch 8/10\n",
            "1688/1688 [==============================] - 17s 10ms/step - loss: 0.1042 - accuracy: 0.9632 - val_loss: 0.2738 - val_accuracy: 0.9118\n",
            "Epoch 9/10\n",
            "1688/1688 [==============================] - 18s 10ms/step - loss: 0.0861 - accuracy: 0.9693 - val_loss: 0.3064 - val_accuracy: 0.9097\n",
            "Epoch 10/10\n",
            "1688/1688 [==============================] - 18s 10ms/step - loss: 0.0707 - accuracy: 0.9762 - val_loss: 0.3236 - val_accuracy: 0.9083\n"
          ],
          "name": "stdout"
        },
        {
          "output_type": "execute_result",
          "data": {
            "text/plain": [
              "<keras.callbacks.History at 0x7f6b0a410e90>"
            ]
          },
          "metadata": {},
          "execution_count": 19
        }
      ]
    },
    {
      "cell_type": "code",
      "metadata": {
        "colab": {
          "base_uri": "https://localhost:8080/"
        },
        "id": "yaXuADpRzNKp",
        "outputId": "6b366aa8-5422-4348-d093-7aa70314b4f9"
      },
      "source": [
        "model.evaluate(x_test,y_test)"
      ],
      "execution_count": 21,
      "outputs": [
        {
          "output_type": "stream",
          "text": [
            "313/313 [==============================] - 2s 6ms/step - loss: 0.3290 - accuracy: 0.9080\n"
          ],
          "name": "stdout"
        },
        {
          "output_type": "execute_result",
          "data": {
            "text/plain": [
              "[0.3289893865585327, 0.9079999923706055]"
            ]
          },
          "metadata": {},
          "execution_count": 21
        }
      ]
    },
    {
      "cell_type": "code",
      "metadata": {
        "id": "4xFMh0If0Ct6"
      },
      "source": [
        "y_pred=model.predict(x_test)"
      ],
      "execution_count": 22,
      "outputs": []
    },
    {
      "cell_type": "code",
      "metadata": {
        "colab": {
          "base_uri": "https://localhost:8080/"
        },
        "id": "Ca9PASO60Os_",
        "outputId": "e9936e74-00d0-4334-b2cd-5eda35832703"
      },
      "source": [
        "np.argmax(y_pred[1])"
      ],
      "execution_count": 23,
      "outputs": [
        {
          "output_type": "execute_result",
          "data": {
            "text/plain": [
              "2"
            ]
          },
          "metadata": {},
          "execution_count": 23
        }
      ]
    },
    {
      "cell_type": "code",
      "metadata": {
        "colab": {
          "base_uri": "https://localhost:8080/"
        },
        "id": "cGto7Wm60UOS",
        "outputId": "8228e71c-a1e3-4dc5-959a-c5b6b31a564b"
      },
      "source": [
        "y_test\n"
      ],
      "execution_count": 24,
      "outputs": [
        {
          "output_type": "execute_result",
          "data": {
            "text/plain": [
              "array([9, 2, 1, ..., 8, 1, 5], dtype=uint8)"
            ]
          },
          "metadata": {},
          "execution_count": 24
        }
      ]
    },
    {
      "cell_type": "code",
      "metadata": {
        "id": "1Gsykg-T0XTW"
      },
      "source": [
        ""
      ],
      "execution_count": null,
      "outputs": []
    }
  ]
}